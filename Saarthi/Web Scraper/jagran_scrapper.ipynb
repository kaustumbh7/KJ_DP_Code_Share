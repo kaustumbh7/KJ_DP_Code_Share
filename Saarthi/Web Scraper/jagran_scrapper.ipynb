{
 "cells": [
  {
   "cell_type": "code",
   "execution_count": null,
   "metadata": {},
   "outputs": [],
   "source": [
    "from urllib.request import urlopen,Request\n",
    "\n",
    "from bs4 import BeautifulSoup\n",
    "\n",
    "import pandas as pd "
   ]
  },
  {
   "cell_type": "code",
   "execution_count": null,
   "metadata": {
    "collapsed": true
   },
   "outputs": [],
   "source": [
    "# Function to remove English text\n",
    "def remove_eng_char(text):\n",
    "    alphabets = list('qwertyuiopasdfghjklzxcvbnmQWERTYUIOPASDFGHJKLZXCVBNM()')\n",
    "    st2 = text\n",
    "    for i in text:\n",
    "        if i in alphabets:\n",
    "            st2 = st2.replace(i,\"\")\n",
    "    return(st2)"
   ]
  },
  {
   "cell_type": "code",
   "execution_count": null,
   "metadata": {
    "collapsed": true
   },
   "outputs": [],
   "source": [
    "# Creating dataframe\n",
    "columns = ['source','category','text']\n",
    "df = pd.DataFrame(columns=columns)"
   ]
  },
  {
   "cell_type": "code",
   "execution_count": null,
   "metadata": {
    "scrolled": true
   },
   "outputs": [],
   "source": [
    "#Different categories of news\n",
    "category_news = [\"cricket/apni-baat\",\"politics/national\",\"politics/international\",\"technology/tech-news\",\"business/top15\",\"lifestyle/travel-tourism\",\"news/national-news\",\"entertainment/bollywood\"]\n",
    "\n",
    "for category in category_news:\n",
    "    txt_lst=[]\n",
    "\n",
    "    #url_lst=[]\n",
    "    for i in range(2,3):\n",
    "        # Extracting different categories url\n",
    "        url = \"https://www.jagran.com/\" + str(category) + \"-news-hindi-page\"+str(i)+\".html\"\n",
    "        req=Request(url,headers={'User-Agent':'Mozilla/5.0'})\n",
    "        web_page = urlopen(req).read()\n",
    "        soup = BeautifulSoup(web_page, 'html.parser')\n",
    "        # Extracting individual articles url\n",
    "        url_lst=[]\n",
    "        for extract_div in soup.findAll(\"div\", {\"class\" : \"newsFJagran\"}):\n",
    "            for extract_a in extract_div.findAll(\"a\"):\n",
    "                url_lst.append(extract_a['href'])\n",
    "        for i in url_lst:\n",
    "            # Extracting text from url\n",
    "            url_i = \"https://www.jagran.com\"+i\n",
    "            req=Request(url_i,headers={'User-Agent':'Mozilla/5.0'})\n",
    "            web_page_i = urlopen(req).read()\n",
    "            soup_i = BeautifulSoup(web_page_i, 'html.parser')\n",
    "            for j in soup_i.findAll(\"div\", {'class': 'articleBody'}):\n",
    "                para_str = \"\"\n",
    "                for paragraph in j.findAll(\"p\"):\n",
    "                    for letter in paragraph.text:\n",
    "                        para = remove_eng_char(paragraph.text)\n",
    "                    para_str = para_str + \" \" + para\n",
    "                txt_lst.append(para_str)\n",
    "                df = df.append({'source':'jagran','category':str(category),'text':para_str}, ignore_index=True)\n",
    "    print(txt_lst)\n",
    "df.to_csv('jagran_hindi_data')"
   ]
  }
 ],
 "metadata": {
  "kernelspec": {
   "display_name": "campenv",
   "language": "python",
   "name": "campenv"
  },
  "language_info": {
   "codemirror_mode": {
    "name": "ipython",
    "version": 3
   },
   "file_extension": ".py",
   "mimetype": "text/x-python",
   "name": "python",
   "nbconvert_exporter": "python",
   "pygments_lexer": "ipython3",
   "version": "3.6.6"
  }
 },
 "nbformat": 4,
 "nbformat_minor": 2
}
